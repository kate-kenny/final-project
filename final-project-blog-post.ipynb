{
 "cells": [
  {
   "cell_type": "markdown",
   "id": "ba0eb5e1",
   "metadata": {},
   "source": [
    "# Project Blog Post: Urban Air Pollution Predicted by Income and Racial Demographics\n",
    "\n",
    "### Bridget Ulian, Kate Kenny, and Mia Tarantola"
   ]
  },
  {
   "cell_type": "markdown",
   "id": "1657c513",
   "metadata": {},
   "source": [
    "## Abstract"
   ]
  },
  {
   "cell_type": "markdown",
   "id": "9a31b01d",
   "metadata": {},
   "source": [
    "Throughout this project, we addressed the problem of urban air pollution and whether it is related to racial and income demographics. We used multiple machine learning models, such as Logistic Regression, Decision Trees, Support Vector Machines, and a few others to see if it is possible to predict air quality based upon racial and income demographics from the U.S. Census. We determined feature importance and then which model was most accurate on the testing data. We found that it is possible to predict air quality with up to 93% accuracy on testing data based on racial and income demographics. Our source code can be found [here](https://github.com/kate-kenny/final-project)."
   ]
  },
  {
   "cell_type": "markdown",
   "id": "927a93f8",
   "metadata": {},
   "source": [
    "## Introduction"
   ]
  },
  {
   "cell_type": "markdown",
   "id": "d7a53462",
   "metadata": {},
   "source": [
    "We aimed to address the problem of disparities in urban air pollution dependent on racial and income demographics from the U.S. Census. This is important to discuss and solve because if disparities in urban air pollution are found based upon racial and income demographics, it can help determine where resources for decreasing air pollution should go. There have been a few studies that discuss this issue, including one by Environmental Health Perspectives, found [here](https://ehp.niehs.nih.gov/doi/10.1289/EHP8584), that quantifies exposure disparities by race/ethnicity and income in the contiguous United States for the six air pollutants that make up the total Air Quality Index (AQI). In the study the researchers found that for each pollutant, the racial or ethnic group with the highest national average exposure was a racial or ethnic minority group. Another, from the American Lung Association ([here](https://www.lung.org/clean-air/outdoors/who-is-at-risk/disparities)) discusses the impact of air pollution on premature death, finding that those who live in predominately Black communities are at greater risk of premature death from particle pollution. A study from the Harvard School of Public Health ([here](https://www.hsph.harvard.edu/news/press-releases/racial-ethnic-minorities-low-income-groups-u-s-air-pollution/)) looked at how fine particulate air pollution, otherwise known as PM2.5, affects minority racial groups and low-income populations at higher levels than white populations and higher-income populations. Another study by Columbia and published in the Environmental Health Perspectives journal ([here](https://ehp.niehs.nih.gov/doi/full/10.1289/EHP11048)) also looked at PM2.5 and how nonlinear and linear models show the same direction of association between racial/ethnic demographics and PM2.5 levels. A final study we looked at ([here](https://pubs.acs.org/doi/10.1021/acs.estlett.1c01012)) discussed how redlining maps drawn in the 1930s affect air pollution levels (NO2 levels) today, finding that redlinign continues to shape systemic environmental exposure disparities in the U.S. today. \n",
    "\n",
    "We are looking at slightly different information, looking at both linear and nonlinear models and how they relate to the AQI which takes into account the six air pollutants that the first study discusses, put together into a single index used by the Environmental Protection Agency (EPA). We are taking both racial/ethnic demographic information and income information into account. We are looking at urban air pollution specifically. We want to determine how urban demographics affect the AQI of certain areas"
   ]
  },
  {
   "cell_type": "markdown",
   "id": "0b04d358",
   "metadata": {},
   "source": [
    "## Values Statement"
   ]
  },
  {
   "cell_type": "markdown",
   "id": "859fde3b",
   "metadata": {},
   "source": [
    "## Materials and Methods"
   ]
  },
  {
   "cell_type": "markdown",
   "id": "67d62b20",
   "metadata": {},
   "source": [
    "## Results"
   ]
  },
  {
   "cell_type": "markdown",
   "id": "aa915179",
   "metadata": {},
   "source": [
    "## Concluding Discussion"
   ]
  },
  {
   "cell_type": "markdown",
   "id": "89d5b322",
   "metadata": {},
   "source": [
    "## Group Contributions Statement"
   ]
  },
  {
   "cell_type": "markdown",
   "id": "9410ea59",
   "metadata": {},
   "source": [
    "## Personal Reflection"
   ]
  },
  {
   "cell_type": "code",
   "execution_count": null,
   "id": "51f539f1",
   "metadata": {},
   "outputs": [],
   "source": []
  }
 ],
 "metadata": {
  "kernelspec": {
   "display_name": "Python [conda env:ml-0451] *",
   "language": "python",
   "name": "conda-env-ml-0451-py"
  },
  "language_info": {
   "codemirror_mode": {
    "name": "ipython",
    "version": 3
   },
   "file_extension": ".py",
   "mimetype": "text/x-python",
   "name": "python",
   "nbconvert_exporter": "python",
   "pygments_lexer": "ipython3",
   "version": "3.9.16"
  }
 },
 "nbformat": 4,
 "nbformat_minor": 5
}
