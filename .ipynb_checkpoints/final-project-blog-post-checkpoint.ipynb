{
 "cells": [
  {
   "cell_type": "markdown",
   "id": "fe5937ad",
   "metadata": {},
   "source": [
    "# Project Blog Post: Urban Air Pollution Predicted by Income and Racial Demographics\n",
    "\n",
    "### Bridget Ulian, Kate Kenny, and Mia Tarantola"
   ]
  },
  {
   "cell_type": "markdown",
   "id": "1ccd7fec",
   "metadata": {},
   "source": [
    "## Abstract"
   ]
  },
  {
   "cell_type": "markdown",
   "id": "c37cee41",
   "metadata": {},
   "source": [
    "Throughout this project, we addressed the problem of urban air pollution and whether it is related to racial and income demographics. We used multiple machine learning models, such as Logistic Regression, Decision Trees, Support Vector Machines, and a few others to see if it is possible to predict air quality based upon racial and income demographics from the U.S. Census. We determined feature importance and then which model was most accurate on the testing data. We found that it is possible to predict air quality with up to 93% accuracy on testing data based on racial and income demographics. Our source code can be found [here](https://github.com/kate-kenny/final-project)."
   ]
  },
  {
   "cell_type": "markdown",
   "id": "cd4164ac",
   "metadata": {},
   "source": [
    "## Introduction"
   ]
  },
  {
   "cell_type": "markdown",
   "id": "7dd2b210",
   "metadata": {},
   "source": [
    "We aimed to address the problem of disparities in urban air pollution dependent on racial and income demographics from the U.S. Census. This is important to discuss and solve because if disparities in urban air pollution are found based upon racial and income demographics, it can help determine where resources for decreasing air pollution should go. There have been a few studies that discuss this issue, including one by Environmental Health Perspectives, found [here](https://ehp.niehs.nih.gov/doi/10.1289/EHP8584), that quantifies exposure disparities by race/ethnicity and income in the contiguous United States for the six air pollutants that make up the total Air Quality Index (AQI). In the study the researchers found that for each pollutant, the racial or ethnic group with the highest national average exposure was a racial or ethnic minority group. Another, from the American Lung Association ([here](https://www.lung.org/clean-air/outdoors/who-is-at-risk/disparities)) discusses the impact of air pollution on premature death, finding that those who live in predominately Black communities are at greater risk of premature death from particle pollution. A study from the Harvard School of Public Health ([here](https://www.hsph.harvard.edu/news/press-releases/racial-ethnic-minorities-low-income-groups-u-s-air-pollution/)) looked at how fine particulate air pollution, otherwise known as PM2.5, affects minority racial groups and low-income populations at higher levels than white populations and higher-income populations. Another study by Columbia and published in the Environmental Health Perspectives journal ([here](https://ehp.niehs.nih.gov/doi/full/10.1289/EHP11048)) also looked at PM2.5 and how nonlinear and linear models show the same direction of association between racial/ethnic demographics and PM2.5 levels. A final study we looked at ([here](https://pubs.acs.org/doi/10.1021/acs.estlett.1c01012)) discussed how redlining maps drawn in the 1930s affect air pollution levels (NO2 levels) today, finding that redlinign continues to shape systemic environmental exposure disparities in the U.S. today. \n",
    "\n",
    "We are looking at slightly different information, looking at both linear and nonlinear models and how they relate to the AQI which takes into account the six air pollutants that the first study discusses, put together into a single index used by the Environmental Protection Agency (EPA). We are taking both racial/ethnic demographic information and income information into account. We are looking at urban air pollution specifically. We want to determine how urban demographics affect the AQI of certain areas to limit the scope of our experiment and see how far racial and ethnic demographics reach in their impact on air pollution. We hope that our research helps state, federal, and local governments determine how to allocate resources towards decerasing air pollution and increasing sustainable choices. "
   ]
  },
  {
   "cell_type": "markdown",
   "id": "6360be71",
   "metadata": {},
   "source": [
    "## Values Statement"
   ]
  },
  {
   "cell_type": "markdown",
   "id": "93db2acc",
   "metadata": {},
   "source": [
    "Potential users of our project include government officials, charity groups, lobbyists, citizens in highly polluted or non-polluted areas, or real estate investors. These groups would use our project in significantly different ways. When it comes to government officials, charity groups, and lobbyists, the hope is that decision-makers in power will see disparities in air pollution levels due to demographic makeup problematic. When they observe these disparities based on racial or income demographics, hopefully it informs government officials and other decision-makers on where to allocate resources. Promoting sustainable energy, strictenforcement of the clean air act, and other environmental practices in areas unfairly burdened with bad air pollution could be a positive outcome of our project. \n",
    "\n",
    "However, our project could also potentially cause harm. When thinking about real estate investments, poor air quality in lower income neighborhoods could be more reason to avoid putting money into these areas. Families looking to move, buy, or rent in new neighborhoods may avoid neighborhoods that have poor air quality; if these neighborhoods are already low-income and mainly inhabited by racial and ethnic minorities, it will perpetuate systemic oppression that these communities already face. This could also be a reason for citizens inhabiting areas with better air quality -- more likely to be higher income, higher white population areas -- to remain in their neighborhoods and continue investing in their own neighborhoods. This could perpetuate the differences in air quality between lower income and higher income neighborhoods. \n",
    "\n",
    "Our personal reasons for working on the project include interest in the EPA data on air pollutants as well as a desire to see if bias plays into air pollution data in American urban centers. I personally began reading news articles and studies covering the effect of income and racial demographics on pollution and personally starting in mid high school. Making our own datasets, models, and maps helped us grasp those disparities much more concretely. Finally, there is a hope that our data helps solidify the fact that disparities in air pollution exist dependent on racial/ethnic and class demographics. While it is not necessarily right that numbers, data, and statistics are often required to make policy decisions, it is the current way of life. Decision-makers can hopefully utilize projects like ours to make decisions that help allocate resources in a way that decreases disparities. \n",
    "\n",
    "Based on this reflection, the world would hopefully be a more equitable, just, joyful, peaceful, and sustainable place based on our technology. With resources allocated towards neighborhoods unfairly suffering from low air quality due to systemic racism and classism, the United States can hopefully take a step towards paying reparations for the historical and current oppression that has compounded on minority -- particularly low-income minority -- groups.H"
   ]
  },
  {
   "cell_type": "markdown",
   "id": "cc9d4c13",
   "metadata": {},
   "source": [
    "## Materials and Methods\n",
    "\n",
    "### Data Cleaning\n",
    "For this project, we used 3 different data sets:\n",
    "- [Air pollution data by county](https://www.kaggle.com/datasets/sogun3/uspollution)\n",
    "- [Income data by county](https://www.census.gov/data/tables/time-series/dec/historical-income-counties.html)\n",
    "- [Racial demograohic data by county](https://www.census.gov/data/tables/time-series/demo/popest/2020s-counties-detail.html)\n",
    "\n",
    "Our first step in the process was data cleaning. We had hoped to combine these three data sets into one larger dataset that included air pulltion, income and racial data for each county. We started with the pollution data and dropping any columns that were only labels (ie. NO2 units: ppm, 03 units, etc). These columns had the same value for all entries and add no additional value. The environmental data was collected nearly everyday for many years, so we decided to find the average values for each year (per county). So, we iterated through all of the entries, keeping only the first four character of the date local column (the year). Then we grouped by state, county and date local to get the yearly averages for each county.\n",
    "\n",
    "Next, we incorperated the county income data. This data set only included the fips code, state abbreviation and median household income, so we could left join on fips code and state abbreviation to combine the two data sets.\n",
    "\n",
    "The last step was to incorporate the racial demogrpahic data. This data set had many columns, but to simplify it, we only considered the individual race columns. Again, we inner joined, to only included counties that appeard in both data sets. \n",
    "\n",
    "No we have one data set with state, county, pollution, income and racial demographic data. \n"
   ]
  },
  {
   "cell_type": "markdown",
   "id": "085f5e57",
   "metadata": {},
   "source": [
    "## Results"
   ]
  },
  {
   "cell_type": "markdown",
   "id": "fde504b4",
   "metadata": {},
   "source": [
    "## Concluding Discussion"
   ]
  },
  {
   "cell_type": "markdown",
   "id": "1f0e2301",
   "metadata": {},
   "source": [
    "## Group Contributions Statement"
   ]
  },
  {
   "cell_type": "markdown",
   "id": "b2c8047c",
   "metadata": {},
   "source": [
    "## Personal Reflection"
   ]
  },
  {
   "cell_type": "code",
   "execution_count": null,
   "id": "b3d46ff1",
   "metadata": {},
   "outputs": [],
   "source": []
  }
 ],
 "metadata": {
  "kernelspec": {
   "display_name": "Python [conda env:ml-0451] *",
   "language": "python",
   "name": "conda-env-ml-0451-py"
  },
  "language_info": {
   "codemirror_mode": {
    "name": "ipython",
    "version": 3
   },
   "file_extension": ".py",
   "mimetype": "text/x-python",
   "name": "python",
   "nbconvert_exporter": "python",
   "pygments_lexer": "ipython3",
   "version": "3.9.16"
  }
 },
 "nbformat": 4,
 "nbformat_minor": 5
}
