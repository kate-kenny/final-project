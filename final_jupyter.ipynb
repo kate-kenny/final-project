version https://git-lfs.github.com/spec/v1
oid sha256:f0d7b2e5b1ebb48c52866054e5a3ac3a3a730fe236723f098568070a39f55c27
size 135835
