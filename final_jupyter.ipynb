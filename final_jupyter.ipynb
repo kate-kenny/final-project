version https://git-lfs.github.com/spec/v1
oid sha256:9dc8819723ee3ee8438a4435847d8d857194d166689cd0f4b93b9717bec4b19a
size 137549
