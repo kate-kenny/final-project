version https://git-lfs.github.com/spec/v1
oid sha256:b06006694b36eb453704bc9e8810960328ff007bd59f751b6702a08e95396e95
size 135837
