version https://git-lfs.github.com/spec/v1
oid sha256:0e97b11ce22ee1d93290de2cd8580d12cfbb4aebce5f2c562b079d3f05fa2a63
size 138400
