{
 "cells": [
  {
   "cell_type": "raw",
   "id": "cdf69953",
   "metadata": {},
   "source": [
    "---\n",
    "title: Urban Air Pollution Predicted by Income and Racial Demographics\n",
    "author: \"Bridget Ulian, Kate Kenny, Mia Tarantola\"\n",
    "date: '2023-05-10'\n",
    "description: \"Final project on determining urban air pollution by income and racial demographics.\"\n",
    "format: html\n",
    "---"
   ]
  },
  {
   "cell_type": "markdown",
   "id": "fe5937ad",
   "metadata": {},
   "source": [
    "# Project Blog Post: Urban Air Pollution Predicted by Income and Racial Demographics\n",
    "\n",
    "### Bridget Ulian, Kate Kenny, and Mia Tarantola"
   ]
  },
  {
   "cell_type": "markdown",
   "id": "1ccd7fec",
   "metadata": {},
   "source": [
    "## Abstract"
   ]
  },
  {
   "cell_type": "markdown",
   "id": "c37cee41",
   "metadata": {},
   "source": [
    "Throughout this project, we addressed the problem of urban air pollution and whether it is related to racial and income demographics. We used multiple machine learning models, such as Logistic Regression, Decision Trees, Support Vector Machines, and a few others to see if it is possible to predict air quality based upon racial and income demographics from the U.S. Census. We determined feature importance and then which model was most accurate on the testing data. We found that it is possible to predict air quality with up to 93% accuracy on testing data based on racial and income demographics. Our source code can be found [here](https://github.com/kate-kenny/final-project)."
   ]
  },
  {
   "cell_type": "markdown",
   "id": "cd4164ac",
   "metadata": {},
   "source": [
    "## Introduction"
   ]
  },
  {
   "cell_type": "markdown",
   "id": "7dd2b210",
   "metadata": {},
   "source": [
    "We aimed to address the problem of disparities in urban air pollution dependent on racial and income demographics from the U.S. Census. This is important to discuss and solve because if disparities in urban air pollution are found based upon racial and income demographics, it can help determine where resources for decreasing air pollution should go. There have been a few studies that discuss this issue, including one by Environmental Health Perspectives, found [here](https://ehp.niehs.nih.gov/doi/10.1289/EHP8584), that quantifies exposure disparities by race/ethnicity and income in the contiguous United States for the six air pollutants that make up the total Air Quality Index (AQI). In the study the researchers found that for each pollutant, the racial or ethnic group with the highest national average exposure was a racial or ethnic minority group. Another, from the American Lung Association ([here](https://www.lung.org/clean-air/outdoors/who-is-at-risk/disparities)) discusses the impact of air pollution on premature death, finding that those who live in predominately Black communities are at greater risk of premature death from particle pollution. A study from the Harvard School of Public Health ([here](https://www.hsph.harvard.edu/news/press-releases/racial-ethnic-minorities-low-income-groups-u-s-air-pollution/)) looked at how fine particulate air pollution, otherwise known as PM2.5, affects minority racial groups and low-income populations at higher levels than white populations and higher-income populations. Another study by Columbia and published in the Environmental Health Perspectives journal ([here](https://ehp.niehs.nih.gov/doi/full/10.1289/EHP11048)) also looked at PM2.5 and how nonlinear and linear models show the same direction of association between racial/ethnic demographics and PM2.5 levels. A final study we looked at ([here](https://pubs.acs.org/doi/10.1021/acs.estlett.1c01012)) discussed how redlining maps drawn in the 1930s affect air pollution levels (NO2 levels) today, finding that redlinign continues to shape systemic environmental exposure disparities in the U.S. today. \n",
    "\n",
    "We are looking at slightly different information, looking at both linear and nonlinear models and how they relate to the AQI which takes into account the six air pollutants that the first study discusses, put together into a single index used by the Environmental Protection Agency (EPA). We are taking both racial/ethnic demographic information and income information into account. We are looking at urban air pollution specifically. We want to determine how urban demographics affect the AQI of certain areas to limit the scope of our experiment and see how far racial and ethnic demographics reach in their impact on air pollution. We hope that our research helps state, federal, and local governments determine how to allocate resources towards decerasing air pollution and increasing sustainable choices. "
   ]
  },
  {
   "cell_type": "markdown",
   "id": "6360be71",
   "metadata": {},
   "source": [
    "## Values Statement"
   ]
  },
  {
   "cell_type": "markdown",
   "id": "93db2acc",
   "metadata": {},
   "source": [
    "Potential users of our project include government officials, charity groups, lobbyists, citizens in highly polluted or non-polluted areas, or real estate investors. These groups would use our project in significantly different ways. When it comes to government officials, charity groups, and lobbyists, the hope is that decision-makers in power will see disparities in air pollution levels due to demographic makeup problematic. When they observe these disparities based on racial or income demographics, hopefully it informs government officials and other decision-makers on where to allocate resources. Promoting sustainable energy, strictenforcement of the clean air act, and other environmental practices in areas unfairly burdened with bad air pollution could be a positive outcome of our project. \n",
    "\n",
    "However, our project could also potentially cause harm. When thinking about real estate investments, poor air quality in lower income neighborhoods could be more reason to avoid putting money into these areas. Families looking to move, buy, or rent in new neighborhoods may avoid neighborhoods that have poor air quality; if these neighborhoods are already low-income and mainly inhabited by racial and ethnic minorities, it will perpetuate systemic oppression that these communities already face. This could also be a reason for citizens inhabiting areas with better air quality -- more likely to be higher income, higher white population areas -- to remain in their neighborhoods and continue investing in their own neighborhoods. This could perpetuate the differences in air quality between lower income and higher income neighborhoods. \n",
    "\n",
    "Our personal reasons for working on the project include interest in the EPA data on air pollutants as well as a desire to see if bias plays into air pollution data in American urban centers. I personally began reading news articles and studies covering the effect of income and racial demographics on pollution and personally starting in mid high school. Making our own datasets, models, and maps helped us grasp those disparities much more concretely. Finally, there is a hope that our data helps solidify the fact that disparities in air pollution exist dependent on racial/ethnic and class demographics. While it is not necessarily right that numbers, data, and statistics are often required to make policy decisions, it is the current way of life. Decision-makers can hopefully utilize projects like ours to make decisions that help allocate resources in a way that decreases disparities. \n",
    "\n",
    "Based on this reflection, the world would hopefully be a more equitable, just, joyful, peaceful, and sustainable place based on our technology. With resources allocated towards neighborhoods unfairly suffering from low air quality due to systemic racism and classism, the United States can hopefully take a step towards paying reparations for the historical and current oppression that has compounded on minority -- particularly low-income minority -- groups.H"
   ]
  },
  {
   "cell_type": "markdown",
   "id": "cc9d4c13",
   "metadata": {},
   "source": [
    "## Materials and Methods\n",
    "\n",
    "### Data Cleaning\n",
    "For this project, we used 3 different data sets:\n",
    "- [Air pollution data by county](https://www.kaggle.com/datasets/sogun3/uspollution)\n",
    "- [Income data by county](https://www.census.gov/data/tables/time-series/dec/historical-income-counties.html)\n",
    "- [Racial demographic data by county](https://www.census.gov/data/tables/time-series/demo/popest/2020s-counties-detail.html)\n",
    "\n",
    "Our first step in the process was data cleaning. We had hoped to combine these three data sets into one larger dataset that included air pollution, income, and racial data for each county. We started with the pollution data and dropped any columns that were used for labeling units. (ie. NO2 units: ppm, 03 units, etc). These columns had the same value for all entries and add no additional value. We also dropped the values that are used to directly calculate the AQI, such as 'NO2 Mean', as these features would clearly have an impact on AQI beyond racial or income demographics. The environmental data was collected nearly everyday for many years, so we decided to find the average values for each year (per county). We iterated through all of the entries, keeping only the first four character of the date local column (the year). Then we grouped by state, county and date local to get the yearly averages for each county.\n",
    "\n",
    "We determined a binary AQI label based upon suggestions from the Environmental Protection Agency (EPA). The EPA determines 'good' and 'moderate' air quality as any AQI from 0-100. Beyond that, any AQI above 100 is considered unhealthy for sensitive groups. That information can be found more in depth [here](https://www.epa.gov/outdoor-air-quality-data/air-data-basic-information#:~:text=%22Good%22%20AQI%20is%200%20%2D,very%20small%20number%20of%20people.). We labeled 'good' AQI as 1 and 'bad' AQI as 0. \n",
    "\n",
    "Next, we incorperated the county income data. This data set only included the fips code, state abbreviation and median household income, so we could left join on fips code and state abbreviation to combine the two data sets.\n",
    "\n",
    "The last step was to incorporate the racial demographic data. This data set had many columns, but to simplify it, we only considered the individual race columns. Again, we inner joined, to only included counties that appeard in both data sets. \n",
    "\n",
    "No we have one data set with state, county, pollution, income and racial demographic data. \n",
    "\n",
    "### Feature Importance\n",
    "\n",
    "One of our first steps in methodology was determining feature importance of each of our features. When determining feature importance, or the effect feature has on the predictive power of the model, we used the built in feature importance of a Random Forest model. This feature importance is calculated by the Mean Decrease in Impurity, or the MDI. For each feature, the random forest algorithm calculates the average decrease in impurity across all decision trees while constructing them. In simple terms, it calculates each feature importance as the sum over the number of splits -- in all decision trees -- that include the future -- proportionally to the number of samples that feature splits. Features which increase the purity of each split (or the likelihood that the particular split will lead towards an outcome of 1 or 0) are tagged as having higher feature importances. \n",
    "\n",
    "The bar plots of feature importance can be found below: \n",
    "\n",
    "![](top_10_features.png)\n",
    "\n",
    "![](second_8_features.png)\n",
    "\n",
    "\n",
    "Something we noted when documenting feature importances was that all features had relatively low importances. Furthermore, some of the features with highest predictive power, like total population and date local, had little to do with racial and income demographics. We will discuss this more later in the results section. \n",
    "\n",
    "\n",
    "### Prediction Models\n",
    "\n",
    "We looked into a few different scikit models and compared the results in order to determine which models we wanted to use in final processes. When looking at models, we kept in mind that the base rate of our dataset is 86.05%. Any accuracies we determined from models should be higher than that base rate. \n",
    "\n",
    "#### Logistic Regression\n",
    "\n",
    "The logistic regression model resulted in a triaing accuracy of 89.2% and a testing accuracy of 86.05%. The testing accuracy was not higher than the base rate, meaning the logistic regression model was not anble to aid in predicting AQI outcomes.   \n",
    "\n",
    "#### Linear Regression\n",
    "\n",
    "We looked at the linear regression model in order test the statistical significance of our different feature variables. The training accuracy was 22.2% and the testing accuracy was 24.7%. We used a p-value of <0.05 a threshold to test for coefficient significance. The table of p-values can be found below.\n",
    "\n",
    "![](p_values.png)\n",
    "\n",
    "What this table shows is a few features carrying statistical significance in our model. The features that are statistically significant are Date Local, Total Population, and Total Female Percentage. One feature, Asian Alone (M) %, is close to statistical significance at p value = 0.060, but not below our threshold. \n",
    "\n",
    "We will discuss the importance of p values in determining analysis more in the results section. \n",
    "\n",
    "#### SVM\n",
    "\n",
    "To determine the best gamma value for our SVC model, we utlized cross validation scores. We tested gamma values within the range of ${6^{-4}}$ to ${6^{4}}$. Our experiment showed that the best gamma value was 0.027777, which resulted in a training accuracy of 93.6% and a testing accuracy of 90.5%. This testing accuracy is above our base rate by 4%. \n",
    "\n",
    "#### Decision Tree\n",
    "\n",
    "Cross validation was used to determine the optimal maximum depth for the decision tree model. The optimal maximum depth was 5, the training accuracy was 93.4% and the testing accuracy was 90.07%. This testing accuracy was higher than our base rate. \n",
    "\n",
    "\n",
    "### Visualization \n",
    "\n",
    "We then plotted some choropleth maps to compare our predicted data to the actual data. We utilized the GeoPandas package in python in order to map our data. We utilized this dataset, [United States Map of Counties](https://raw.githubusercontent.com/plotly/datasets/master/geojson-counties-fips.json), to combine a map of the United States counties with racial/income demographics as well as AQI numbers. "
   ]
  },
  {
   "cell_type": "markdown",
   "id": "085f5e57",
   "metadata": {},
   "source": [
    "## Results\n",
    "\n",
    "### SVC Model Results: Accuracy and Auditing\n",
    "\n",
    "\n",
    "We decided to use our SVC model for further analysis. The overall accuracy of our model was 90.5%, but we also looked at the positive predictive value. That is the likelihood that a county predicted to have a low risk AQI actually has a low AQI. Our PPV was 91.1%.\n",
    "\n",
    "We also looked into the overall FPR and FNR, which were 59.3% and 1.4%.\n",
    "\n",
    "At the begining of the project, one of our goals was to investigate the bias of our model, so we decided to audit for income and racial bias. \n",
    "\n",
    "We split our income data into two different counties: counties where the median household income was above $\\$73,125$ and those which were under.\n",
    "\n",
    "The accuracy of our model for high income counties was $96.5\\%$, while the accuracy for low income counties was $86.4\\%$. This suggests that our model might have income bias. So, we tested for calibration. Calibration means that the fraction of predicted counties to have a AQI binary score of 1 (low risk) is the same across all income groups. So we will calculate this metric for both income groups. The proportion of high income counties predicted to have a low risk AQI is 0.50\n"
   ]
  },
  {
   "cell_type": "markdown",
   "id": "def287b3",
   "metadata": {},
   "source": [
    "### Visualizations"
   ]
  },
  {
   "cell_type": "code",
   "execution_count": 17,
   "id": "7b7b6c14",
   "metadata": {},
   "outputs": [
    {
     "name": "stderr",
     "output_type": "stream",
     "text": [
      "/Users/bridgetulian/Downloads/machine_learning/final-project/dataCleaning.py:15: SettingWithCopyWarning:\n",
      "\n",
      "\n",
      "A value is trying to be set on a copy of a slice from a DataFrame.\n",
      "Try using .loc[row_indexer,col_indexer] = value instead\n",
      "\n",
      "See the caveats in the documentation: https://pandas.pydata.org/pandas-docs/stable/user_guide/indexing.html#returning-a-view-versus-a-copy\n",
      "\n"
     ]
    },
    {
     "data": {
      "text/html": [
       "<iframe\n",
       "    scrolling=\"no\"\n",
       "    width=\"100%\"\n",
       "    height=\"545px\"\n",
       "    src=\"iframe_figures/figure_17.html\"\n",
       "    frameborder=\"0\"\n",
       "    allowfullscreen\n",
       "></iframe>\n"
      ]
     },
     "metadata": {},
     "output_type": "display_data"
    }
   ],
   "source": [
    "\n",
    "#code-fold: true\n",
    "\n",
    "\n",
    "from geomapping import Mapping\n",
    "import pandas as pd\n",
    "from copy import deepcopy\n",
    "from dataCleaning import DatasetClass\n",
    "from sklearn.svm import SVC\n",
    "\n",
    "ds = DatasetClass()\n",
    "\n",
    "dataset = pd.read_csv(\"pollution_income_race.csv\")\n",
    "\n",
    "X_train, X_test, y_train, y_test = ds.train_test_data(dataset)\n",
    "\n",
    "df = pd.read_csv(\"pollution_income_race.csv\")\n",
    "df = df.dropna()\n",
    "mp = Mapping()\n",
    "\n",
    "svc_model = SVC(gamma = .027777777777777776)\n",
    "svc_model.fit(X_train, y_train)\n",
    "\n",
    "test_combined = deepcopy(X_test)\n",
    "\n",
    "test_combined[\"Predicted AQI Binary\"] = svc_model.predict(X_test)\n",
    "test_combined[\"Actual AQI Binary\"] = y_test\n",
    "\n",
    "#plotting predictions\n",
    "mp.plot_df(test_combined, \"Predicted AQI Binary\")"
   ]
  },
  {
   "cell_type": "code",
   "execution_count": null,
   "id": "4873918a",
   "metadata": {},
   "outputs": [],
   "source": [
    "mp = Mapping()\n",
    "mp.plot_df(test_combined,\"Actual AQI Binary\")\n"
   ]
  },
  {
   "cell_type": "markdown",
   "id": "f9db8489",
   "metadata": {},
   "source": [
    "The above mappings of the actual AQI binary and the predicted AQI binary using our SVC model demonstrates the high accuracy of our model, but also demonstrates the high numbers of positive samples we have in our dataset. One thing that we found when exploring the false positive and negative rates of our model was a disproportionately high false positive rate and a disproportionately low false negative rate. When determining how this occurred, we recognized that our dataset has many more 'positive' samples than 'negative' samples; in other words, we have a dataset that contains many more counties with 'good' air quality index than those with 'bad' air quality index. This is not something that is disheartening to learn, but rather carries a positive connotation. If most of the areas we are observing have an EPA-determined 'good' air quality index, it means that American urban counties are not all suffering from unhealthy air quality.\n",
    "\n",
    "However, our model is still able to predict outcomes of 'good' or 'bad' air quality at a higher accuracy than the base rate. Going back to the statistical significance of our features, the most statistically significant features are the local date, the total population, and the total percentage of females. While this is not necessarily what we were expecting, it still provides interesting. Particularly when it comes to the demographic features, total population having a positive feature importance is very interesting. On one hand, more people utilizing vehicles, breathing out CO2, and otherwise creating pollutants is likely to increase the AQI and decrease air quality. On the other hand, people who are able to afford single-family homes and more room for their families are likely to live in areas with lower total populations. Both of these could help explain the importance of total population in determining air quality. If this project could extend into the future, an interesting project would be examining counties with good and bad air quality side by side and observing how their total populations and living conditions compare. \n",
    "\n",
    "Overall, we found that racial/ethnic and income demographics hold some significance in determining air quality when using the AQI, but not necessarily in the way that we hypothesized. Perhaps use of a different metric of air pollution would change our outcomes; as seen in the introduction, many studies utilized PM2.5, or fine particulate air pollution, when testing racial/ethnic demographics effect on air pollution. These studies found much more statistical significance in how their features affect levels of PM2.5. In our model, the local date held much more significance than all racial and income demographics. "
   ]
  },
  {
   "cell_type": "markdown",
   "id": "fde504b4",
   "metadata": {},
   "source": [
    "## Concluding Discussion"
   ]
  },
  {
   "cell_type": "markdown",
   "id": "1f0e2301",
   "metadata": {},
   "source": [
    "## Group Contributions Statement"
   ]
  },
  {
   "cell_type": "markdown",
   "id": "b2c8047c",
   "metadata": {},
   "source": [
    "## Personal Reflection"
   ]
  },
  {
   "cell_type": "code",
   "execution_count": null,
   "id": "b3d46ff1",
   "metadata": {},
   "outputs": [],
   "source": []
  },
  {
   "cell_type": "code",
   "execution_count": null,
   "id": "66a35715",
   "metadata": {},
   "outputs": [],
   "source": []
  }
 ],
 "metadata": {
  "kernelspec": {
   "display_name": "Python [conda env:ml-0451] *",
   "language": "python",
   "name": "conda-env-ml-0451-py"
  },
  "language_info": {
   "codemirror_mode": {
    "name": "ipython",
    "version": 3
   },
   "file_extension": ".py",
   "mimetype": "text/x-python",
   "name": "python",
   "nbconvert_exporter": "python",
   "pygments_lexer": "ipython3",
   "version": "3.9.16"
  }
 },
 "nbformat": 4,
 "nbformat_minor": 5
}
