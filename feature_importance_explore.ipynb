{
 "cells": [
  {
   "cell_type": "code",
   "execution_count": null,
   "id": "ceb8c2b6",
   "metadata": {},
   "outputs": [],
   "source": [
    "from sklearn.model_selection import train_test_split\n",
    "import pandas as pd"
   ]
  },
  {
   "cell_type": "code",
   "execution_count": null,
   "id": "adc1ab80",
   "metadata": {},
   "outputs": [],
   "source": [
    "#place holder until we get dataset ready\n",
    "temp_data = pd.read_csv(\"pollution_income_race.csv\")\n",
    "\n",
    "#our labels are the AQI\n",
    "y = temp_data.loc[:,\"AQI\"]\n",
    "\n",
    "#train and test data\n",
    "X_train, X_test, y_train, y_test = train_test_split(temp_data, y, test_size=0.33, random_state=42)"
   ]
  },
  {
   "cell_type": "code",
   "execution_count": null,
   "id": "e9ac2b85",
   "metadata": {},
   "outputs": [],
   "source": [
    "#feature importnace"
   ]
  },
  {
   "cell_type": "code",
   "execution_count": null,
   "id": "38703309",
   "metadata": {},
   "outputs": [],
   "source": []
  }
 ],
 "metadata": {
  "kernelspec": {
   "display_name": "Python [conda env:ml-0451] *",
   "language": "python",
   "name": "conda-env-ml-0451-py"
  },
  "language_info": {
   "codemirror_mode": {
    "name": "ipython",
    "version": 3
   },
   "file_extension": ".py",
   "mimetype": "text/x-python",
   "name": "python",
   "nbconvert_exporter": "python",
   "pygments_lexer": "ipython3",
   "version": "3.9.16"
  }
 },
 "nbformat": 4,
 "nbformat_minor": 5
}
