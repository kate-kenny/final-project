{
 "cells": [
  {
   "cell_type": "code",
   "execution_count": 5,
   "id": "ceb8c2b6",
   "metadata": {},
   "outputs": [],
   "source": [
    "from sklearn.model_selection import train_test_split\n",
    "import pandas as pd"
   ]
  },
  {
   "cell_type": "markdown",
   "id": "c8c7b7aa",
   "metadata": {},
   "source": [
    "## What We can Learn from the Following / Reasoning behind it all: Logistic Regression\n",
    "\n",
    "Step one was cleaning the data; getting a binary AQI value for our training data, using logistic regression here to begin. Dropping all of the values that play into total AQI as well as categorical data such as state, county, and city. Looking at exclusively different race percentages and household income. \n",
    "\n",
    "When we tested for feature importance in Logistic Regression, Household income had the biggest impact. This means we should be looking at household income as it relates to urban pollution, as well as the next most important factors which were state code, county code, total population, percent male, percent female, and then percentages of white alone. \n",
    "\n",
    "I also dropped non-city data to specifically look at urban pollution. \n",
    "\n",
    "Going to continue by looking at what happens with different models. "
   ]
  },
  {
   "cell_type": "code",
   "execution_count": 6,
   "id": "6d0ff353",
   "metadata": {},
   "outputs": [],
   "source": [
    "#place holder until we get dataset ready\n",
    "\n",
    "data = pd.read_csv(\"pollution_income_race.csv\")\n",
    "\n",
    "data = data[data[\"City\"] != \"Not in a city\"]\n",
    "\n",
    "data[\"AQI Binary\"] = 1 * (data[\"AQI Total\"] <= 100)\n",
    "\n",
    "#our labels are the AQI Binary for now\n",
    "y = data.loc[:,\"AQI Binary\"]\n",
    "\n",
    "#also going to drop states and cities for now, (and city) because we don't get a numerical from that\n",
    "data = data.drop(columns=[\"State_x\", \n",
    "                          \"County_x\",\n",
    "                          \"City\",\n",
    "                           \"State_y\", \n",
    "                          \"County_y\", \n",
    "                          \"AQI Total\", \n",
    "                          \"AQI Binary\"])\n",
    "\n",
    "#finally, drop those features that directly contribute to AQI (i.e. NO2 Mean, NO2 1st Max Value)\n",
    "data = data.drop(columns=[\"NO2 Mean\",\n",
    "                         \"NO2 1st Max Value\",\n",
    "                         \"NO2 1st Max Hour\",\n",
    "                         \"NO2 AQI\",\n",
    "                         \"O3 Mean\",\n",
    "                         \"O3 1st Max Value\",\n",
    "                         \"O3 1st Max Hour\",\n",
    "                         \"O3 AQI\",\n",
    "                         \"SO2 Mean\",\n",
    "                         \"SO2 1st Max Value\",\n",
    "                         \"SO2 1st Max Hour\",\n",
    "                         \"SO2 AQI\",\n",
    "                         \"CO Mean\",\n",
    "                         \"CO 1st Max Value\",\n",
    "                         \"CO 1st Max Hour\",\n",
    "                         \"CO AQI\"])\n",
    "\n",
    "#train and test data\n",
    "X_train, X_test, y_train, y_test = train_test_split(data, y, test_size=0.33, random_state=42)"
   ]
  },
  {
   "cell_type": "code",
   "execution_count": 7,
   "id": "e9ac2b85",
   "metadata": {},
   "outputs": [
    {
     "data": {
      "text/html": [
       "<div>\n",
       "<style scoped>\n",
       "    .dataframe tbody tr th:only-of-type {\n",
       "        vertical-align: middle;\n",
       "    }\n",
       "\n",
       "    .dataframe tbody tr th {\n",
       "        vertical-align: top;\n",
       "    }\n",
       "\n",
       "    .dataframe thead th {\n",
       "        text-align: right;\n",
       "    }\n",
       "</style>\n",
       "<table border=\"1\" class=\"dataframe\">\n",
       "  <thead>\n",
       "    <tr style=\"text-align: right;\">\n",
       "      <th></th>\n",
       "      <th>State Code</th>\n",
       "      <th>County Code</th>\n",
       "      <th>Date Local</th>\n",
       "      <th>Median Household Income</th>\n",
       "      <th>Total Pop</th>\n",
       "      <th>Total Male %</th>\n",
       "      <th>Total Female %</th>\n",
       "      <th>White Alone (M) %</th>\n",
       "      <th>White Alone (F) %</th>\n",
       "      <th>Black Alone (M) %</th>\n",
       "      <th>Black Alone (F) %</th>\n",
       "      <th>Am Indian+AK Native Alone (M) %</th>\n",
       "      <th>Am Indian+AK Native Alone (F) %</th>\n",
       "      <th>Asian Alone (M) %</th>\n",
       "      <th>Asian Alone (F) %</th>\n",
       "      <th>Nat. HI and PI (M) %</th>\n",
       "      <th>Nat. HI and PI (F) %</th>\n",
       "      <th>TOM_MALE</th>\n",
       "    </tr>\n",
       "  </thead>\n",
       "  <tbody>\n",
       "    <tr>\n",
       "      <th>66</th>\n",
       "      <td>6</td>\n",
       "      <td>1</td>\n",
       "      <td>2002</td>\n",
       "      <td>113518.0</td>\n",
       "      <td>10021506</td>\n",
       "      <td>0.495390</td>\n",
       "      <td>0.504610</td>\n",
       "      <td>0.244432</td>\n",
       "      <td>0.238668</td>\n",
       "      <td>0.051896</td>\n",
       "      <td>0.056041</td>\n",
       "      <td>0.005613</td>\n",
       "      <td>0.005458</td>\n",
       "      <td>0.161241</td>\n",
       "      <td>0.171451</td>\n",
       "      <td>0.004578</td>\n",
       "      <td>0.004916</td>\n",
       "      <td>0.027631</td>\n",
       "    </tr>\n",
       "    <tr>\n",
       "      <th>835</th>\n",
       "      <td>32</td>\n",
       "      <td>3</td>\n",
       "      <td>2001</td>\n",
       "      <td>62496.0</td>\n",
       "      <td>13662646</td>\n",
       "      <td>0.500808</td>\n",
       "      <td>0.499192</td>\n",
       "      <td>0.349270</td>\n",
       "      <td>0.334776</td>\n",
       "      <td>0.065935</td>\n",
       "      <td>0.068644</td>\n",
       "      <td>0.006304</td>\n",
       "      <td>0.006135</td>\n",
       "      <td>0.048658</td>\n",
       "      <td>0.058518</td>\n",
       "      <td>0.004651</td>\n",
       "      <td>0.004758</td>\n",
       "      <td>0.025988</td>\n",
       "    </tr>\n",
       "    <tr>\n",
       "      <th>67</th>\n",
       "      <td>6</td>\n",
       "      <td>1</td>\n",
       "      <td>2003</td>\n",
       "      <td>113518.0</td>\n",
       "      <td>10021506</td>\n",
       "      <td>0.495390</td>\n",
       "      <td>0.504610</td>\n",
       "      <td>0.244432</td>\n",
       "      <td>0.238668</td>\n",
       "      <td>0.051896</td>\n",
       "      <td>0.056041</td>\n",
       "      <td>0.005613</td>\n",
       "      <td>0.005458</td>\n",
       "      <td>0.161241</td>\n",
       "      <td>0.171451</td>\n",
       "      <td>0.004578</td>\n",
       "      <td>0.004916</td>\n",
       "      <td>0.027631</td>\n",
       "    </tr>\n",
       "    <tr>\n",
       "      <th>447</th>\n",
       "      <td>6</td>\n",
       "      <td>95</td>\n",
       "      <td>2001</td>\n",
       "      <td>83678.0</td>\n",
       "      <td>2716962</td>\n",
       "      <td>0.501149</td>\n",
       "      <td>0.498851</td>\n",
       "      <td>0.300509</td>\n",
       "      <td>0.288954</td>\n",
       "      <td>0.074948</td>\n",
       "      <td>0.072824</td>\n",
       "      <td>0.006718</td>\n",
       "      <td>0.006442</td>\n",
       "      <td>0.076265</td>\n",
       "      <td>0.088328</td>\n",
       "      <td>0.005441</td>\n",
       "      <td>0.005261</td>\n",
       "      <td>0.037269</td>\n",
       "    </tr>\n",
       "    <tr>\n",
       "      <th>217</th>\n",
       "      <td>6</td>\n",
       "      <td>37</td>\n",
       "      <td>2012</td>\n",
       "      <td>75624.0</td>\n",
       "      <td>59665436</td>\n",
       "      <td>0.495714</td>\n",
       "      <td>0.504286</td>\n",
       "      <td>0.353743</td>\n",
       "      <td>0.349500</td>\n",
       "      <td>0.042930</td>\n",
       "      <td>0.046823</td>\n",
       "      <td>0.007591</td>\n",
       "      <td>0.007220</td>\n",
       "      <td>0.073381</td>\n",
       "      <td>0.082331</td>\n",
       "      <td>0.001828</td>\n",
       "      <td>0.001838</td>\n",
       "      <td>0.016241</td>\n",
       "    </tr>\n",
       "    <tr>\n",
       "      <th>...</th>\n",
       "      <td>...</td>\n",
       "      <td>...</td>\n",
       "      <td>...</td>\n",
       "      <td>...</td>\n",
       "      <td>...</td>\n",
       "      <td>...</td>\n",
       "      <td>...</td>\n",
       "      <td>...</td>\n",
       "      <td>...</td>\n",
       "      <td>...</td>\n",
       "      <td>...</td>\n",
       "      <td>...</td>\n",
       "      <td>...</td>\n",
       "      <td>...</td>\n",
       "      <td>...</td>\n",
       "      <td>...</td>\n",
       "      <td>...</td>\n",
       "      <td>...</td>\n",
       "    </tr>\n",
       "    <tr>\n",
       "      <th>1133</th>\n",
       "      <td>42</td>\n",
       "      <td>69</td>\n",
       "      <td>2002</td>\n",
       "      <td>56911.0</td>\n",
       "      <td>1294150</td>\n",
       "      <td>0.489517</td>\n",
       "      <td>0.510483</td>\n",
       "      <td>0.437606</td>\n",
       "      <td>0.461313</td>\n",
       "      <td>0.024152</td>\n",
       "      <td>0.021254</td>\n",
       "      <td>0.001740</td>\n",
       "      <td>0.001697</td>\n",
       "      <td>0.016049</td>\n",
       "      <td>0.016100</td>\n",
       "      <td>0.000323</td>\n",
       "      <td>0.000383</td>\n",
       "      <td>0.009646</td>\n",
       "    </tr>\n",
       "    <tr>\n",
       "      <th>1184</th>\n",
       "      <td>42</td>\n",
       "      <td>101</td>\n",
       "      <td>2005</td>\n",
       "      <td>55102.0</td>\n",
       "      <td>9562106</td>\n",
       "      <td>0.475856</td>\n",
       "      <td>0.524144</td>\n",
       "      <td>0.218985</td>\n",
       "      <td>0.226435</td>\n",
       "      <td>0.200090</td>\n",
       "      <td>0.235551</td>\n",
       "      <td>0.004473</td>\n",
       "      <td>0.004774</td>\n",
       "      <td>0.037813</td>\n",
       "      <td>0.041240</td>\n",
       "      <td>0.000867</td>\n",
       "      <td>0.000898</td>\n",
       "      <td>0.013629</td>\n",
       "    </tr>\n",
       "    <tr>\n",
       "      <th>1219</th>\n",
       "      <td>42</td>\n",
       "      <td>133</td>\n",
       "      <td>2000</td>\n",
       "      <td>71655.0</td>\n",
       "      <td>2743046</td>\n",
       "      <td>0.497499</td>\n",
       "      <td>0.502501</td>\n",
       "      <td>0.438321</td>\n",
       "      <td>0.443527</td>\n",
       "      <td>0.037588</td>\n",
       "      <td>0.036162</td>\n",
       "      <td>0.002079</td>\n",
       "      <td>0.001843</td>\n",
       "      <td>0.007190</td>\n",
       "      <td>0.008613</td>\n",
       "      <td>0.000395</td>\n",
       "      <td>0.000416</td>\n",
       "      <td>0.011926</td>\n",
       "    </tr>\n",
       "    <tr>\n",
       "      <th>924</th>\n",
       "      <td>36</td>\n",
       "      <td>103</td>\n",
       "      <td>2002</td>\n",
       "      <td>109084.0</td>\n",
       "      <td>9152726</td>\n",
       "      <td>0.495513</td>\n",
       "      <td>0.504487</td>\n",
       "      <td>0.416442</td>\n",
       "      <td>0.422438</td>\n",
       "      <td>0.043497</td>\n",
       "      <td>0.045976</td>\n",
       "      <td>0.003550</td>\n",
       "      <td>0.003241</td>\n",
       "      <td>0.021259</td>\n",
       "      <td>0.022082</td>\n",
       "      <td>0.000557</td>\n",
       "      <td>0.000519</td>\n",
       "      <td>0.010207</td>\n",
       "    </tr>\n",
       "    <tr>\n",
       "      <th>1215</th>\n",
       "      <td>42</td>\n",
       "      <td>129</td>\n",
       "      <td>2005</td>\n",
       "      <td>59349.0</td>\n",
       "      <td>2123436</td>\n",
       "      <td>0.493617</td>\n",
       "      <td>0.506383</td>\n",
       "      <td>0.464779</td>\n",
       "      <td>0.479903</td>\n",
       "      <td>0.014620</td>\n",
       "      <td>0.012278</td>\n",
       "      <td>0.000807</td>\n",
       "      <td>0.000656</td>\n",
       "      <td>0.004862</td>\n",
       "      <td>0.005320</td>\n",
       "      <td>0.000122</td>\n",
       "      <td>0.000111</td>\n",
       "      <td>0.008428</td>\n",
       "    </tr>\n",
       "  </tbody>\n",
       "</table>\n",
       "<p>858 rows × 18 columns</p>\n",
       "</div>"
      ],
      "text/plain": [
       "      State Code  County Code  Date Local  Median Household Income  Total Pop  \\\n",
       "66             6            1        2002                 113518.0   10021506   \n",
       "835           32            3        2001                  62496.0   13662646   \n",
       "67             6            1        2003                 113518.0   10021506   \n",
       "447            6           95        2001                  83678.0    2716962   \n",
       "217            6           37        2012                  75624.0   59665436   \n",
       "...          ...          ...         ...                      ...        ...   \n",
       "1133          42           69        2002                  56911.0    1294150   \n",
       "1184          42          101        2005                  55102.0    9562106   \n",
       "1219          42          133        2000                  71655.0    2743046   \n",
       "924           36          103        2002                 109084.0    9152726   \n",
       "1215          42          129        2005                  59349.0    2123436   \n",
       "\n",
       "      Total Male %  Total Female %  White Alone (M) %  White Alone (F) %  \\\n",
       "66        0.495390        0.504610           0.244432           0.238668   \n",
       "835       0.500808        0.499192           0.349270           0.334776   \n",
       "67        0.495390        0.504610           0.244432           0.238668   \n",
       "447       0.501149        0.498851           0.300509           0.288954   \n",
       "217       0.495714        0.504286           0.353743           0.349500   \n",
       "...            ...             ...                ...                ...   \n",
       "1133      0.489517        0.510483           0.437606           0.461313   \n",
       "1184      0.475856        0.524144           0.218985           0.226435   \n",
       "1219      0.497499        0.502501           0.438321           0.443527   \n",
       "924       0.495513        0.504487           0.416442           0.422438   \n",
       "1215      0.493617        0.506383           0.464779           0.479903   \n",
       "\n",
       "      Black Alone (M) %  Black Alone (F) %  Am Indian+AK Native Alone (M) %  \\\n",
       "66             0.051896           0.056041                         0.005613   \n",
       "835            0.065935           0.068644                         0.006304   \n",
       "67             0.051896           0.056041                         0.005613   \n",
       "447            0.074948           0.072824                         0.006718   \n",
       "217            0.042930           0.046823                         0.007591   \n",
       "...                 ...                ...                              ...   \n",
       "1133           0.024152           0.021254                         0.001740   \n",
       "1184           0.200090           0.235551                         0.004473   \n",
       "1219           0.037588           0.036162                         0.002079   \n",
       "924            0.043497           0.045976                         0.003550   \n",
       "1215           0.014620           0.012278                         0.000807   \n",
       "\n",
       "      Am Indian+AK Native Alone (F) %  Asian Alone (M) %  Asian Alone (F) %  \\\n",
       "66                           0.005458           0.161241           0.171451   \n",
       "835                          0.006135           0.048658           0.058518   \n",
       "67                           0.005458           0.161241           0.171451   \n",
       "447                          0.006442           0.076265           0.088328   \n",
       "217                          0.007220           0.073381           0.082331   \n",
       "...                               ...                ...                ...   \n",
       "1133                         0.001697           0.016049           0.016100   \n",
       "1184                         0.004774           0.037813           0.041240   \n",
       "1219                         0.001843           0.007190           0.008613   \n",
       "924                          0.003241           0.021259           0.022082   \n",
       "1215                         0.000656           0.004862           0.005320   \n",
       "\n",
       "      Nat. HI and PI (M) %  Nat. HI and PI (F) %  TOM_MALE  \n",
       "66                0.004578              0.004916  0.027631  \n",
       "835               0.004651              0.004758  0.025988  \n",
       "67                0.004578              0.004916  0.027631  \n",
       "447               0.005441              0.005261  0.037269  \n",
       "217               0.001828              0.001838  0.016241  \n",
       "...                    ...                   ...       ...  \n",
       "1133              0.000323              0.000383  0.009646  \n",
       "1184              0.000867              0.000898  0.013629  \n",
       "1219              0.000395              0.000416  0.011926  \n",
       "924               0.000557              0.000519  0.010207  \n",
       "1215              0.000122              0.000111  0.008428  \n",
       "\n",
       "[858 rows x 18 columns]"
      ]
     },
     "execution_count": 7,
     "metadata": {},
     "output_type": "execute_result"
    }
   ],
   "source": [
    "#feature importance\n",
    "X_train"
   ]
  },
  {
   "cell_type": "code",
   "execution_count": 8,
   "id": "6dc4a069",
   "metadata": {},
   "outputs": [
    {
     "data": {
      "text/plain": [
       "66      1\n",
       "835     1\n",
       "67      1\n",
       "447     1\n",
       "217     1\n",
       "       ..\n",
       "1133    1\n",
       "1184    1\n",
       "1219    1\n",
       "924     1\n",
       "1215    1\n",
       "Name: AQI Binary, Length: 858, dtype: int64"
      ]
     },
     "execution_count": 8,
     "metadata": {},
     "output_type": "execute_result"
    }
   ],
   "source": [
    "y_train\n",
    "\n",
    "#making y_train into categorical (good, bad) for now. 1 is good, 0 is worst\n",
    "#using threshold from epa.gov: 100 and below gets 1, 101 and above gets 0\n"
   ]
  },
  {
   "cell_type": "code",
   "execution_count": 9,
   "id": "fa826f6a",
   "metadata": {},
   "outputs": [
    {
     "data": {
      "text/plain": [
       "['State Code',\n",
       " 'County Code',\n",
       " 'Date Local',\n",
       " 'Median Household Income',\n",
       " 'Total Pop',\n",
       " 'Total Male %',\n",
       " 'Total Female %',\n",
       " 'White Alone (M) %',\n",
       " 'White Alone (F) %',\n",
       " 'Black Alone (M) %',\n",
       " 'Black Alone (F) %',\n",
       " 'Am Indian+AK Native Alone (M) %',\n",
       " 'Am Indian+AK Native Alone (F) %',\n",
       " 'Asian Alone (M) %',\n",
       " 'Asian Alone (F) %',\n",
       " 'Nat. HI and PI (M) %',\n",
       " 'Nat. HI and PI (F) %',\n",
       " 'TOM_MALE']"
      ]
     },
     "execution_count": 9,
     "metadata": {},
     "output_type": "execute_result"
    }
   ],
   "source": [
    "X_train.columns.values.tolist()"
   ]
  },
  {
   "cell_type": "code",
   "execution_count": 10,
   "id": "2f5be1c3",
   "metadata": {},
   "outputs": [
    {
     "data": {
      "text/plain": [
       "State Code                           int64\n",
       "County Code                          int64\n",
       "Date Local                           int64\n",
       "Median Household Income            float64\n",
       "Total Pop                            int64\n",
       "Total Male %                       float64\n",
       "Total Female %                     float64\n",
       "White Alone (M) %                  float64\n",
       "White Alone (F) %                  float64\n",
       "Black Alone (M) %                  float64\n",
       "Black Alone (F) %                  float64\n",
       "Am Indian+AK Native Alone (M) %    float64\n",
       "Am Indian+AK Native Alone (F) %    float64\n",
       "Asian Alone (M) %                  float64\n",
       "Asian Alone (F) %                  float64\n",
       "Nat. HI and PI (M) %               float64\n",
       "Nat. HI and PI (F) %               float64\n",
       "TOM_MALE                           float64\n",
       "dtype: object"
      ]
     },
     "execution_count": 10,
     "metadata": {},
     "output_type": "execute_result"
    }
   ],
   "source": [
    "data.dtypes"
   ]
  },
  {
   "cell_type": "code",
   "execution_count": 11,
   "id": "83274271",
   "metadata": {},
   "outputs": [
    {
     "data": {
      "text/plain": [
       "<BarContainer object of 5 artists>"
      ]
     },
     "execution_count": 11,
     "metadata": {},
     "output_type": "execute_result"
    },
    {
     "data": {
      "image/png": "[encoded data removed]",
      "text/plain": [
       "<Figure size 640x480 with 1 Axes>"
      ]
     },
     "metadata": {},
     "output_type": "display_data"
    }
   ],
   "source": [
    "#try feature importance w Logistic Regression\n",
    "from sklearn.linear_model import LogisticRegression\n",
    "from matplotlib import pyplot as plt\n",
    "\n",
    "LR = LogisticRegression()\n",
    "LR.fit(X_train, y_train)\n",
    "\n",
    "#get importance\n",
    "importances = pd.DataFrame(data = \n",
    "                           {'Attribute': X_train.columns,\n",
    "                            'Importance': LR.coef_[0]\n",
    "                           })\n",
    "\n",
    "importances.sort_values('Importance')\n",
    "\n",
    "importances = importances[0:5]\n",
    "\n",
    "#plot importance for features\n",
    "plt.bar(x=importances['Attribute'], height=importances['Importance'], color='#087E8B')"
   ]
  },
  {
   "cell_type": "code",
   "execution_count": 12,
   "id": "98480014",
   "metadata": {},
   "outputs": [
    {
     "data": {
      "text/plain": [
       "<BarContainer object of 5 artists>"
      ]
     },
     "execution_count": 12,
     "metadata": {},
     "output_type": "execute_result"
    },
    {
     "data": {
      "image/png": "[encoded data removed]",
      "text/plain": [
       "<Figure size 640x480 with 1 Axes>"
      ]
     },
     "metadata": {},
     "output_type": "display_data"
    }
   ],
   "source": [
    "#get importance\n",
    "importances = pd.DataFrame(data = \n",
    "                           {'Attribute': X_train.columns,\n",
    "                            'Importance': LR.coef_[0]\n",
    "                           })\n",
    "\n",
    "importances.sort_values('Importance')\n",
    "\n",
    "importances = importances[5:10]\n",
    "\n",
    "#plot importance for features\n",
    "plt.bar(x=importances['Attribute'], height=importances['Importance'], color='#087E8B')"
   ]
  },
  {
   "cell_type": "markdown",
   "id": "ad88e780",
   "metadata": {},
   "source": [
    "### to note: \n",
    "\n",
    "negative feature importance means that feature actually increases our loss (so % Black alone (M) actually increases the loss of our feature)."
   ]
  },
  {
   "cell_type": "code",
   "execution_count": 13,
   "id": "beb6fd27",
   "metadata": {},
   "outputs": [
    {
     "data": {
      "text/plain": [
       "<BarContainer object of 4 artists>"
      ]
     },
     "execution_count": 13,
     "metadata": {},
     "output_type": "execute_result"
    },
    {
     "data": {
      "image/png": "[encoded data removed]",
      "text/plain": [
       "<Figure size 640x480 with 1 Axes>"
      ]
     },
     "metadata": {},
     "output_type": "display_data"
    }
   ],
   "source": [
    "#get importance\n",
    "importances = pd.DataFrame(data = \n",
    "                           {'Attribute': X_train.columns,\n",
    "                            'Importance': LR.coef_[0]\n",
    "                           })\n",
    "\n",
    "importances.sort_values('Importance')\n",
    "\n",
    "importances = importances[11:15]\n",
    "\n",
    "#plot importance for features\n",
    "plt.bar(x=importances['Attribute'], height=importances['Importance'], color='#087E8B')"
   ]
  },
  {
   "cell_type": "code",
   "execution_count": 14,
   "id": "25aa47d3",
   "metadata": {},
   "outputs": [
    {
     "data": {
      "text/plain": [
       "<BarContainer object of 3 artists>"
      ]
     },
     "execution_count": 14,
     "metadata": {},
     "output_type": "execute_result"
    },
    {
     "data": {
      "image/png": "[encoded data removed]",
      "text/plain": [
       "<Figure size 640x480 with 1 Axes>"
      ]
     },
     "metadata": {},
     "output_type": "display_data"
    }
   ],
   "source": [
    "#get importance\n",
    "importances = pd.DataFrame(data = \n",
    "                           {'Attribute': X_train.columns,\n",
    "                            'Importance': LR.coef_[0]\n",
    "                           })\n",
    "\n",
    "importances.sort_values('Importance')\n",
    "\n",
    "importances = importances[15:20]\n",
    "\n",
    "#plot importance for features\n",
    "plt.bar(x=importances['Attribute'], height=importances['Importance'], color='#087E8B')"
   ]
  },
  {
   "cell_type": "markdown",
   "id": "0f3c5832",
   "metadata": {},
   "source": [
    "## Looking into models \n",
    "\n",
    "Starting with some of the basic scie kit learn models to compare. Depending on how they do I think we could have a binary classifier type model and then attempt linear regression to predict actual values which might not work as well on our data. "
   ]
  },
  {
   "cell_type": "markdown",
   "id": "5fd89ccd",
   "metadata": {},
   "source": [
    "### Logistic Regression "
   ]
  },
  {
   "cell_type": "code",
   "execution_count": 25,
   "id": "0153000c",
   "metadata": {},
   "outputs": [
    {
     "name": "stdout",
     "output_type": "stream",
     "text": [
      "Training Accuracy:\n"
     ]
    },
    {
     "data": {
      "text/plain": [
       "0.8916083916083916"
      ]
     },
     "execution_count": 25,
     "metadata": {},
     "output_type": "execute_result"
    }
   ],
   "source": [
    "from sklearn.linear_model import LogisticRegression \n",
    "\n",
    "LR = LogisticRegression()\n",
    "LR.fit(X_train, y_train)\n",
    "\n",
    "print(\"Training Accuracy:\")\n",
    "LR.score(X_train, y_train)"
   ]
  },
  {
   "cell_type": "markdown",
   "id": "d63cff89",
   "metadata": {},
   "source": [
    "### Logistic Regression with polynomial features \n",
    "code for poly_LR from class notes. Doesn't seem to be working since identical to normal LR training score and the score doesn't change from degree = 1 to degree = 2 but unsure why. "
   ]
  },
  {
   "cell_type": "code",
   "execution_count": 40,
   "id": "c12ade23",
   "metadata": {
    "scrolled": true
   },
   "outputs": [
    {
     "data": {
      "text/plain": [
       "0.8916083916083916"
      ]
     },
     "execution_count": 40,
     "metadata": {},
     "output_type": "execute_result"
    }
   ],
   "source": [
    "from sklearn.preprocessing import PolynomialFeatures\n",
    "from sklearn.pipeline import Pipeline\n",
    "\n",
    "def poly_LR(degree, **kwargs):\n",
    "    plr = Pipeline([(\"poly\", PolynomialFeatures(degree = degree)),\n",
    "                    (\"LR\", LogisticRegression(**kwargs))])\n",
    "    return plr\n",
    "\n",
    "    \n",
    "plr = poly_LR(degree = 2, max_iter = 1000000)\n",
    "plr.fit(X_train, y_train)\n",
    "plr.score(X_train, y_train)"
   ]
  },
  {
   "cell_type": "markdown",
   "id": "7692d4b2",
   "metadata": {},
   "source": [
    "### Support Vector Machine"
   ]
  },
  {
   "cell_type": "code",
   "execution_count": 47,
   "id": "60256bbf",
   "metadata": {},
   "outputs": [
    {
     "name": "stdout",
     "output_type": "stream",
     "text": [
      "Training Accuracy:\n"
     ]
    },
    {
     "data": {
      "text/plain": [
       "0.9054373522458629"
      ]
     },
     "execution_count": 47,
     "metadata": {},
     "output_type": "execute_result"
    }
   ],
   "source": [
    "from sklearn.svm import SVC\n",
    "\n",
    "svc = SVC(gamma = \"auto\") \n",
    "svc.fit(X_train, y_train)\n",
    "\n",
    "print(\"Training Accuracy:\")\n",
    "svc.score(X_train, y_train)\n",
    "svc.score(X_test, y_test)"
   ]
  }
 ],
 "metadata": {
  "kernelspec": {
   "display_name": "Python 3 (ipykernel)",
   "language": "python",
   "name": "python3"
  },
  "language_info": {
   "codemirror_mode": {
    "name": "ipython",
    "version": 3
   },
   "file_extension": ".py",
   "mimetype": "text/x-python",
   "name": "python",
   "nbconvert_exporter": "python",
   "pygments_lexer": "ipython3",
   "version": "3.9.16"
  }
 },
 "nbformat": 4,
 "nbformat_minor": 5
}
